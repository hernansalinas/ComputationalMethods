{
 "cells": [
  {
   "cell_type": "markdown",
   "metadata": {
    "id": "DvZeftzu7RZN"
   },
   "source": [
    "## Interpolation using Lagrange polynomials (recap)\n",
    "\n",
    "### Definition:\n",
    "\n",
    "$$P_n(x)=\\sum_{i=0}^{n}L_i(x) f(x_i) \\quad \\text{where} \\quad L_i(x)=\\prod_{j=0,j \\neq i}^{n} \\frac{(x-x_j)}{(x_i-x_j)}$$\n",
    "\n",
    "example for n=2\n",
    "\n",
    "$$P_2(x)=\\frac{(x-x_1)(x-x_2)}{(x_0-x_1)(x_0-x_2)}f(x_0) + \\frac{(x-x_0)(x-x_2)}{(x_1-x_0)(x_1-x_2)}f(x_1) + \\frac{(x-x_0)(x-x_1)}{(x_2-x_1)(x_2-x_2)}f(x_2)$$\n",
    "\n",
    "### Details :\n",
    "* not being used much in practice\n",
    "* not easy to compute,\n",
    "* but is good for $\\color{red}{\\text{methodology}}$\n",
    "* see why:\n",
    "\n",
    "Lets assume we have three points\n",
    "$$x_0=1,\tf(x_0)=4 \\equiv y_1$$\n",
    "$$x_1=2,\tf(x_1)=5 \\equiv y_2$$\n",
    "$$x_2=3,\tf(x_2)=6 \\equiv y_3$$\n",
    "\n",
    "One could construct a trial function that passes through the points:\n",
    "$f(x)=4y_1 + 5y_2 + 6y_3$ with the task of finding $y_1,y_2,y_3$\n",
    "\n",
    "If we try the first point $x_0=1$ then to get the right solution we have to have: $y_1=1$ and $y_2=y_3=0$ and that would give us what we want, which is $f(x_0)=4$\n",
    "\n",
    "similarly for all three point we want:\n",
    "\n",
    "$$ \\quad \\text{for} \\quad x=1 \\rightarrow y_1=1, y_2=y_3=0$$\n",
    "$$ \\quad \\text{for} \\quad x=2 \\rightarrow y_2=1, y_1=y_3=0$$\n",
    "$$ \\quad \\text{for} \\quad x=3 \\rightarrow y_3=1, y_1=y_2=0$$\n",
    "\n",
    "Hence the task is to find expressions for $y_1,y_2,y_3$ such that the the upper conditions can be fulfiled \n",
    "\n",
    "For the first point the solution would be something like:\n",
    "\n",
    "$$y_1=(x-2)(x-3)$$ \n",
    "\n",
    "so for $x=2$ or $x=3$ $\\rightarrow$ $y_1=0$, but for $x=1 \\rightarrow y_1=2$ but we want $y_1=2$  so we can normalize it:\n",
    "\n",
    "$$y_1=\\frac{(x-2)(x-3)}{(x_0-2)(x_0-3)}= 1 \\quad \\text{for} \\quad (x=x_0), \\quad \\text{but} = 0  \\quad \\text{for} \\quad (x=x_1=x_2) $$\n",
    "\n",
    "$$y_2=\\frac{(x-1)(x-3)}{(x_1-1)(x_1-3)}= 1 \\quad \\text{for} \\quad (x=x_1), \\quad \\text{but} = 0  \\quad \\text{for} \\quad (x=x_2=x_3) $$\n",
    "\n",
    "$$y_3=\\frac{(x-1)(x-2)}{(x_2-1)(x_2-2)}= 1 \\quad \\text{for} \\quad (x=x_2), \\quad \\text{but} = 0  \\quad \\text{for} \\quad (x=x_1=x_2) $$\n",
    "\n",
    "The final solutions is\n",
    "\n",
    "$$f(x)=y_1 4 + y_2 5+ y_3 6$$\n",
    "\n",
    "Putting in the Langrange multipliers:\n",
    "\n",
    "$$P(x)=\\frac{(x-x_1)(x-x_2)}{(x_0-x_1)(x_0-x_2)}f(x_0) + \\frac{(x-x_0)(x-x_2)}{(x_1-x_0)(x_1-x_2)}f(x_1) + \\frac{(x-x_0)(x-x_1)}{(x_2-x_1)(x_2-x_2)}f(x_3)$$\n",
    "\n",
    "which is basically $P_2(x)$ that we showed at the beginning\n",
    "\n",
    "The main property of Lagrange multipliers is that are zero for all other points except $x_i$ (which is normalized).\n"
   ]
  },
  {
   "cell_type": "markdown",
   "metadata": {
    "id": "ha2aOzk_7RZO"
   },
   "source": [
    "# Divided Differences"
   ]
  },
  {
   "cell_type": "markdown",
   "metadata": {},
   "source": [
    "are fundamental elements for numerical calculations of interpolants, Newton, Lagrange, Hermite"
   ]
  },
  {
   "cell_type": "markdown",
   "metadata": {},
   "source": [
    "### Derivation:"
   ]
  },
  {
   "cell_type": "markdown",
   "metadata": {},
   "source": [
    "<img src=\"imgs/diff_divid.png\" width=\"400\" />"
   ]
  },
  {
   "cell_type": "markdown",
   "metadata": {},
   "source": [
    "From the slope we see that:\n",
    "$$\\frac{f(x)-f(x_0)}{x-x_0} = \\frac{f(x_1)-f(x_0)}{x_1-x_0}$$\n",
    "\n",
    "$$f(x)=f(x_0) + \\frac{f(x_1) - f(x_0)}{x_1-x_0} (x-x_0) $$\n",
    "\n",
    "And get the first order polynomial:\n",
    "\n",
    "$$f_1(x) = b_0 + b_1 (x-x_0)$$\n",
    "\n",
    "Analogically the second order polynomial is:\n",
    "$$f_2(x) = b_0 + b_1 (x-x_0)  + b_2 (x-x_0) (x-x_1) $$\n",
    "\n",
    "Lets find $b_0, b_1, b_2 ...$\n",
    "\n",
    "$$b_0 = f(x_0)$$\n",
    "\n",
    "$$b_1 = \\frac{f(x_1) - f(x_0)}{x_1 - x_0}  $$\n",
    "\n",
    "$$b_2 = \\frac{\\frac{f(x_2) - f(x_1)}{x_2 - x_1} - \\frac{f(x_1) - f(x_0)}{x_1 - x_0}}{x_2-x_0}  $$\n",
    "\n",
    "Lets define the divided differences in recursive form:\n",
    "\n",
    "$$f[x_0] = f(x_0) \\quad \\text{zeroth divided difference} $$\n",
    "\n",
    "\n",
    "$$f[x_0,x_{1}] = \\frac{f[x_{1}] - f[x_0]}{x_{1} - x_0} \\quad \\text{first divided difference} $$\n",
    "$$f[x_1,x_{2}] = \\frac{f[x_{2}] - f[x_1]}{x_{2} - x_1} \\quad \\text{first divided difference} $$\n",
    "\n",
    "\n",
    "$$f[x_0,x_{1},x_{2}] = \\frac{f[x_{1},x_{2}] - f[x_0,x_{1}]}{x_{2}-x_1} \\equiv \\frac{\\frac{f[x_{2}] - f[x_1]}{x_{2} - x_1} - \\frac{f[x_{1}] - f[x_0]}{x_{1} - x_0}}{x_{2}-x_1} \\quad \\text{second divided difference} $$\n",
    "\n",
    "$$f[x_0,x_{1}...x_k] = \\frac{f[x_{1},...,x_{k}] - f[x_0,...,x_{k-1}]}{x_{k}-x_0}  \\quad \\text{kth divided difference} $$\n",
    "\n",
    "\n"
   ]
  },
  {
   "cell_type": "code",
   "execution_count": 1,
   "metadata": {},
   "outputs": [],
   "source": [
    "#Construction of a kth divided difference (recursive code)\n",
    "def D( i, k, Xn, Yn ):\n",
    "    #If k+i>N\n",
    "    if i+k>=len(Xn):\n",
    "        return 0\n",
    "    #Zeroth divided difference\n",
    "    elif k == 0:\n",
    "        return Yn[i]\n",
    "    #If higher divided difference\n",
    "    else:\n",
    "        return (D(i+1, k-1, Xn, Yn)-D(i, k-1, Xn, Yn))/(Xn[i+k]-Xn[i])"
   ]
  },
  {
   "cell_type": "markdown",
   "metadata": {
    "id": "Gop6cDHi7RZS"
   },
   "source": [
    "## Homework 1"
   ]
  },
  {
   "cell_type": "markdown",
   "metadata": {
    "id": "ZVFlECgl7RZT"
   },
   "source": [
    "Using the previous expression and the new defined function for divided differences, show both methods to calculate Lagrange interpolators are equivalents.\n",
    "\n",
    "$$P_n(x)=\\sum_{i=0}^{n}L_i(x) f(x_i) \\quad \\text{where} \\quad L_i(x)=\\prod_{j=0,j \\neq i}^{n} \\frac{(x-x_j)}{(x_i-x_j)}$$\n",
    "\n",
    "is equivalent to:\n",
    "\n",
    "$$P_n(x) = f[x_0] + \\sum_{k=1}^n f[x_0,...,f_k] (x-x_0) \\cdots (x-x_{k-1})$$\n",
    "$$P_n(x) = f[x_0] + f[x_0,x_1](x-x_0) + f[x_0,x_1,x_2](x-x_0)(x-x_2) + ... $$\n",
    "\n",
    "\n",
    "Note this expression is by far easier to be manipulated analytically as we can know the coefficients of each order."
   ]
  },
  {
   "cell_type": "markdown",
   "metadata": {
    "id": "n7_u1oPK7RZV"
   },
   "source": [
    "# Introduction to Hermite Polynomial Interpolation \n",
    "* why do we need more methods?\n",
    "* lets look at the following code:\n"
   ]
  },
  {
   "cell_type": "code",
   "execution_count": 2,
   "metadata": {},
   "outputs": [
    {
     "data": {
      "text/plain": [
       "(-1, 1)"
      ]
     },
     "execution_count": 2,
     "metadata": {},
     "output_type": "execute_result"
    },
    {
     "data": {
      "image/png": "[encoded data removed]",
      "text/plain": [
       "<Figure size 432x288 with 1 Axes>"
      ]
     },
     "metadata": {
      "needs_background": "light"
     },
     "output_type": "display_data"
    }
   ],
   "source": [
    "import numpy as np\n",
    "from scipy.interpolate import CubicHermiteSpline\n",
    "from scipy.interpolate import interp1d\n",
    "from scipy.interpolate import lagrange\n",
    "\n",
    "import matplotlib.pyplot as plt\n",
    "x = np.array([-1.5, 1.6, 4.7])\n",
    "y = np.array([0.071,-0.029,-0.012])\n",
    "dydx=np.array([1,-1,1])\n",
    "\n",
    "# Lagrange\n",
    "L=lagrange(x,y)\n",
    "\n",
    "# Linear polynomial n=1\n",
    "poly1=interp1d(x,y,kind='linear') # kind='quadratic'\n",
    "\n",
    "xtest=np.linspace(-1.5,4.7,101, endpoint=True)\n",
    "\n",
    "fig,ax=plt.subplots(1,1)\n",
    "ax.plot(xtest,np.cos(xtest),label=' true function: cos(x)')\n",
    "ax.scatter(x,y,c='blue',s=50,label='data')\n",
    "ax.plot(xtest,L(xtest),label='Lagrange')\n",
    "ax.plot(xtest,poly1(xtest),label='Polynomial n=1')\n",
    "\n",
    "ax.legend()\n",
    "ax.set_ylim([-1,1])\n"
   ]
  },
  {
   "cell_type": "markdown",
   "metadata": {
    "id": "clDX2gV17RZW"
   },
   "source": [
    "# Hermite Interpolation\n",
    "\n",
    "* Taylor  polynomials  allow  approximating  a  point,  the  function  and  its first  derivatives.  Lagrange polynomials  approximate points  and  none  of  its  derivatives.  Approximation  to  the function and to its first derivative is called Hermite interpolants\n",
    "* So there extists an polynomial that involoves the interpolants and derivatives with the definition is this\n",
    "* The definition in terms of divided differences is this:\n",
    "\n",
    "Let's suppose a dataset $[{x_i}]_i$ for $i=0,1,⋯,n$ with the respective values $[{f(x_i)}]_i$ and $[{f′(x_i)}]_i$. If we assume two different polynomials to fit each set of data, i.e. a polynomial for $[{f(x_i)}]_i$ and another for $[{f′(x_i)}]_i$, we obtain $2n+2$ coefficients, however zeroth-order coefficients can be put together so finally there are $2n+1$ independent coefficients to be determined. In this case, we assign the respective Hermite polynimial as $H_{2n+1}(x)$.\n",
    "\n",
    "The Hermite polynomial of degree $2n+1$ is defined as follows:\n",
    "\n",
    "$$H_{2n+1}(x)=\\sum_{j=0}^{n}f(x_j)H_{n,j}(x) + \\sum_{j=0}^{n}f'(x_j)\\hat{H}_{n,j}(x)$$\n",
    "where\n",
    "$$H_{n,j}(x) = [1-2(x-x_j)L'_{n,j}(x_j)]L^2_{n,j}(x) \\quad \\text{and} \\quad \\hat{H}_{n,j}(x) = (x-x_j)L^2_{n,j}(x_j)$$\n",
    "\n",
    "and $L_{n,j}(x)$ denotes $j$th Lagrange coefficient polynomial of degree $n$\n",
    "\n",
    "...but, thats not how we calculate it numerically. We use divided differences. \n",
    "### Derivation using divided differences:\n",
    "\n",
    "Remembering the divided differences expression for a Lagrange polynomial is\n",
    "\n",
    "$$P_n(x) = f[x_0] + \\sum_{k=1}^n f[x_0,...,f_k] (x-x_0) \\cdots (x-x_{k-1})$$\n",
    "\n",
    "$$P_n(x) = f[x_0] + f[x_0,x_1](x-x_0) + f[x_0,x_1,x_2](x-x_0)(x-x_2) + ... $$\n",
    "\n",
    "we define new sequence $z_0, z_1 ... z_n$ to facilitate the calculation of the differences such that\n",
    "\n",
    "$z_{2_i} = z_{2_i+1} = x_i$ for each i=0,1,2,...,n\n",
    "\n",
    "example:\n",
    "\n",
    "if $i=0 \\rightarrow z_{0} z_{1} = x_0 $\n",
    "\n",
    "if $i=1 \\rightarrow z_{2} z_{3} = x_1 $ ...\n",
    "\n",
    "$$H_{2n+1}(x) = f[z_0] + \\sum_{k=1}^{2n+1} f[z_0,...,z_k] (x-z_0)(x-z_1) \\cdots (x-z_{k-1})$$\n",
    "\n",
    "para n=2, por ejemplo\n",
    "\n",
    "$$H_{5}(x) = f[z_0] + f[z_0,z_1](x-z_0) + f[z_0,z_1,z_2](x-z_0)(x-z_1) + f[z_0,z_1,z_2,z_3](x-z_0)(x-z_1)(x-z_2) + f[z_0,z_1,z_2,z_3,z_4](x-z_0)(x-z_1)(x-z_2)(x-z_3) + f[z_0,z_1,z_2,z_3,z_4,z_5](x-z_0)(x-z_1)(x-z_2)(x-z_3)(x-z_4)  $$\n",
    "\n",
    "where the differences are defined as previously but with $x\\rightarrow z$\n",
    "\n",
    "$$f[z_0] = f(z_0) \\quad \\text{zeroth divided difference} $$\n",
    "\n",
    "\n",
    "$$f[z_0,z_{1}] = \\frac{f[z_{1}] - f[z_0]}{z_{1} - z_0} \\quad \\text{first divided difference} $$\n",
    "$$f[z_1,z_{2}] = \\frac{f[z_{2}] - f[z_1]}{z_{2} - z_1} \\quad \\text{first divided difference} $$\n",
    "\n",
    "\n",
    "$$f[z_0,z_{1},z_{2}] = \\frac{f[z_{1},z_{2}] - f[z_0,z_{1}]}{z_{2}-z_1} \\equiv \\frac{\\frac{f[z_{2}] - f[z_1]}{z_{2} - z_1} - \\frac{f[z_{1}] - f[z_0]}{z_{1} - z_0}}{z_{2}-z_1} \\quad \\text{second divided difference} $$\n",
    "\n",
    "\n",
    "... $\\color{red}{\\text{HOWEVER}}$, notice in the table, that\n",
    "\n",
    "$$f[z_0,z_{1}] = \\frac{f[x_0] - f[x_0]}{x_0 - x_0} \\quad \\text {is uderfined!}$$\n",
    "\n",
    "and we use Rolle's theorem to solve this problem and define\n",
    "\n",
    "$$f[x_0,x_0] = \\frac{f^{n} (x_0)}{n!} $$\n",
    "\n",
    "$$f[z_{2i},z_{2i+1}] = f[x_i,x_i] = f(x_i)' = y'_i $$"
   ]
  },
  {
   "cell_type": "markdown",
   "metadata": {},
   "source": [
    "![](https://raw.githubusercontent.com/sbustamante/ComputationalMethods/master/material/figures/table_coefficients.png)"
   ]
  },
  {
   "cell_type": "code",
   "execution_count": 3,
   "metadata": {},
   "outputs": [],
   "source": [
    "#Construction of a kth divided difference for Hermite polynomials (recursive code)\n",
    "def Dh( j, k, Zn, Yn, Ypn ):\n",
    "    #If k+j>N\n",
    "    if j+k>=len(Zn):\n",
    "        return 0\n",
    "    #Zeroth divided difference\n",
    "    elif k == 0:\n",
    "        return Yn[j/2]\n",
    "    #First order divided difference (even indexes)\n",
    "    elif k == 1 and j%2 == 0:\n",
    "        return Ypn[j/2]\n",
    "    #If higher divided difference\n",
    "    else:\n",
    "        return (Dh(j+1, k-1, Zn, Yn, Ypn)-Dh(j, k-1, Zn, Yn, Ypn))/(Zn[j+k]-Zn[j])\n",
    "    \n",
    "#Hermite Interpolating Function\n",
    "def Hermite( x, Xn, Yn, Ypn ):\n",
    "    n = len(Xn)\n",
    "    #Auxiliar array\n",
    "    Zn = np.zeros( 2*len(Xn) )\n",
    "    #Even indexes\n",
    "    Zn[::2] = Xn\n",
    "    #Odd indexes\n",
    "    Zn[1::2] = Xn\n",
    "    \n",
    "    #Detecting size of x\n",
    "    try:\n",
    "        Ninter = len(x)\n",
    "    except:\n",
    "        Ninter = 1\n",
    "        x = np.array([x,])\n",
    "    \n",
    "    #First coeficient\n",
    "    Hp = Dh(0, 0, Xn, Yn, Ypn)*np.ones(Ninter)\n",
    "    \n",
    "    #High-order coeficients\n",
    "    for l in xrange(Ninter):\n",
    "        for k in xrange(1, 2*n+2):\n",
    "            Hp[l] += Dh(0, k, Zn, Yn, Ypn)*np.prod(x[l]-Zn[:k])\n",
    "        \n",
    "    return Hp    "
   ]
  },
  {
   "cell_type": "markdown",
   "metadata": {},
   "source": [
    "###  Example - Calculating divided differences (by hand)"
   ]
  },
  {
   "cell_type": "code",
   "execution_count": 4,
   "metadata": {},
   "outputs": [
    {
     "data": {
      "text/html": [
       "<div>\n",
       "<style scoped>\n",
       "    .dataframe tbody tr th:only-of-type {\n",
       "        vertical-align: middle;\n",
       "    }\n",
       "\n",
       "    .dataframe tbody tr th {\n",
       "        vertical-align: top;\n",
       "    }\n",
       "\n",
       "    .dataframe thead th {\n",
       "        text-align: right;\n",
       "    }\n",
       "</style>\n",
       "<table border=\"1\" class=\"dataframe\">\n",
       "  <thead>\n",
       "    <tr style=\"text-align: right;\">\n",
       "      <th></th>\n",
       "      <th>i</th>\n",
       "      <th>xi</th>\n",
       "      <th>yi</th>\n",
       "      <th>y'i</th>\n",
       "    </tr>\n",
       "  </thead>\n",
       "  <tbody>\n",
       "    <tr>\n",
       "      <th>0</th>\n",
       "      <td>1</td>\n",
       "      <td>-1.5</td>\n",
       "      <td>0.071</td>\n",
       "      <td>1</td>\n",
       "    </tr>\n",
       "    <tr>\n",
       "      <th>1</th>\n",
       "      <td>2</td>\n",
       "      <td>1.6</td>\n",
       "      <td>-0.029</td>\n",
       "      <td>-1</td>\n",
       "    </tr>\n",
       "    <tr>\n",
       "      <th>2</th>\n",
       "      <td>3</td>\n",
       "      <td>4.7</td>\n",
       "      <td>-0.010</td>\n",
       "      <td>1</td>\n",
       "    </tr>\n",
       "  </tbody>\n",
       "</table>\n",
       "</div>"
      ],
      "text/plain": [
       "   i   xi     yi  y'i\n",
       "0  1 -1.5  0.071    1\n",
       "1  2  1.6 -0.029   -1\n",
       "2  3  4.7 -0.010    1"
      ]
     },
     "execution_count": 4,
     "metadata": {},
     "output_type": "execute_result"
    }
   ],
   "source": [
    "import pandas as pd\n",
    "d = {\n",
    "\"i\": [1,2,3],\n",
    "\"xi\": [-1.5,1.6,4.7],\n",
    "\"yi\": [0.071, -0.029, -0.010],\n",
    "\"y'i\": [1, -1, 1]\n",
    "}\n",
    "df = pd.DataFrame(d)\n",
    "df.head()"
   ]
  },
  {
   "cell_type": "markdown",
   "metadata": {},
   "source": [
    "Here n=2 so the Hermite polynomial will be in the order of 2n+1 = 5\n",
    "\n",
    "$z_{2_i} = z_{2_i+1} = x_i$ for each i=0,1,2,...,n\n",
    "\n",
    "if $i=0 \\rightarrow z_{0}, z_{1} = x_0 =-1.5 $\n",
    "\n",
    "if $i=1 \\rightarrow z_{2}, z_{3} = x_1 = 1.6 $ \n",
    "\n",
    "if $i=2 \\rightarrow z_{4}, z_{5} = x_2 = 4.7$ \n",
    "\n",
    "and the values of the function at those points\n",
    "\n",
    "$f(z_{0}), (z_{1}) = f(x_0) = 0.071 $\n",
    "\n",
    "$f(z_{2}), f(z_{3}) = f(x_1) = -0.029 $ \n",
    "\n",
    "$f(z_{4}), f(z_{5}) = f(x_2) = -0.010 $ \n"
   ]
  },
  {
   "attachments": {},
   "cell_type": "markdown",
   "metadata": {},
   "source": [
    "<img src=\"imgs/Hermite_numeric_example.png\" width=\"700\" />\n"
   ]
  },
  {
   "cell_type": "code",
   "execution_count": 5,
   "metadata": {},
   "outputs": [
    {
     "name": "stdout",
     "output_type": "stream",
     "text": [
      "-0.03225806451612903\n",
      "0.006451612903225812\n"
     ]
    }
   ],
   "source": [
    "p1=-1.5; p2=1.6; fp1=0.071; fp2=-0.029\n",
    "fp1p2=(fp2-fp1)/(p2-p1)\n",
    "print(fp1p2)\n",
    "\n",
    "p1=-1.5; p2=1.6; fp1=-0.33; fp2=-0.31\n",
    "fp1p2=(fp2-fp1)/(p2-p1)\n",
    "print(fp1p2)"
   ]
  },
  {
   "cell_type": "markdown",
   "metadata": {},
   "source": [
    "collecting the differences the polynomial becomes:\n",
    "\n",
    "$H_5(x)=\\color{blue}{\\text{0.071}} + 1(x + 1.5)−\\color{blue}{\\text{0.33}}(x + 1.5)^2 + \\color{blue}{\\text{0.0065}}(x + 1.5)^2 (x −1.6)+ \\color{blue}{\\text{0.015}}(x + 1.5)^2 (x −1.6)^2 \\color{blue}{\\text{-0.005}}(x + 1.5)^ 2 (x −1.6)^2 (x −4.7)$"
   ]
  },
  {
   "cell_type": "code",
   "execution_count": 6,
   "metadata": {},
   "outputs": [
    {
     "data": {
      "text/html": [
       "<div>\n",
       "<style scoped>\n",
       "    .dataframe tbody tr th:only-of-type {\n",
       "        vertical-align: middle;\n",
       "    }\n",
       "\n",
       "    .dataframe tbody tr th {\n",
       "        vertical-align: top;\n",
       "    }\n",
       "\n",
       "    .dataframe thead th {\n",
       "        text-align: right;\n",
       "    }\n",
       "</style>\n",
       "<table border=\"1\" class=\"dataframe\">\n",
       "  <thead>\n",
       "    <tr style=\"text-align: right;\">\n",
       "      <th></th>\n",
       "      <th>i</th>\n",
       "      <th>xi</th>\n",
       "      <th>yi</th>\n",
       "      <th>y'i</th>\n",
       "    </tr>\n",
       "  </thead>\n",
       "  <tbody>\n",
       "    <tr>\n",
       "      <th>0</th>\n",
       "      <td>1</td>\n",
       "      <td>-1.5</td>\n",
       "      <td>0.071</td>\n",
       "      <td>1</td>\n",
       "    </tr>\n",
       "    <tr>\n",
       "      <th>1</th>\n",
       "      <td>2</td>\n",
       "      <td>1.6</td>\n",
       "      <td>-0.029</td>\n",
       "      <td>-1</td>\n",
       "    </tr>\n",
       "    <tr>\n",
       "      <th>2</th>\n",
       "      <td>3</td>\n",
       "      <td>4.7</td>\n",
       "      <td>-0.010</td>\n",
       "      <td>1</td>\n",
       "    </tr>\n",
       "  </tbody>\n",
       "</table>\n",
       "</div>"
      ],
      "text/plain": [
       "   i   xi     yi  y'i\n",
       "0  1 -1.5  0.071    1\n",
       "1  2  1.6 -0.029   -1\n",
       "2  3  4.7 -0.010    1"
      ]
     },
     "execution_count": 6,
     "metadata": {},
     "output_type": "execute_result"
    }
   ],
   "source": [
    "import matplotlib.pyplot as plt\n",
    "import pandas as pd\n",
    "d = {\n",
    "\"i\": [1,2,3],\n",
    "\"xi\": [-1.5,1.6,4.7],\n",
    "\"yi\": [0.071, -0.029, -0.010],\n",
    "\"y'i\": [1, -1, 1]\n",
    "}\n",
    "df = pd.DataFrame(d)\n",
    "df.head()\n"
   ]
  },
  {
   "cell_type": "code",
   "execution_count": 7,
   "metadata": {},
   "outputs": [
    {
     "data": {
      "text/plain": [
       "<matplotlib.legend.Legend at 0x7f9107696f60>"
      ]
     },
     "execution_count": 7,
     "metadata": {},
     "output_type": "execute_result"
    },
    {
     "data": {
      "image/png": "[encoded data removed]",
      "text/plain": [
       "<Figure size 432x288 with 1 Axes>"
      ]
     },
     "metadata": {
      "needs_background": "light"
     },
     "output_type": "display_data"
    }
   ],
   "source": [
    "import numpy as np\n",
    "from scipy.interpolate import CubicHermiteSpline\n",
    "from scipy.interpolate import interp1d\n",
    "from scipy.interpolate import lagrange\n",
    "import matplotlib.pyplot as plt\n",
    "\n",
    "###############################################################################################\n",
    "###############################################################################################\n",
    "def hdiff(x, y, yprime):\n",
    "    m = x.size # here m is the number of data points. Note n=m-1\n",
    "# and 2n+1=2m-1\n",
    "    l = 2*m\n",
    "    z = np.zeros(l)\n",
    "    a = np.zeros(l)\n",
    "    for i in range(m):\n",
    "        z[2*i] = x[i]\n",
    "        z[2*i+1] = x[i]\n",
    "    for i in range(m):\n",
    "        a[2*i] = y[i]\n",
    "        a[2*i+1] = y[i]\n",
    "    for i in np.flip(np.arange(1, m)): # computes the first divided\n",
    "# differences using derivatives\n",
    "       a[2*i+1] = yprime[i]\n",
    "       a[2*i] = (a[2*i]-a[2*i-1]) / (z[2*i]-z[2*i-1])\n",
    "    a[1] = yprime[0]\n",
    "    for j in range(2, l): # computes the rest of the divided differences\n",
    "        for i in np.flip(np.arange(j, l)):\n",
    "            a[i]=(a[i]-a[i-1]) / (z[i]-z[i-j])\n",
    "    return a\n",
    "    \n",
    "def hermite(x, y, yprime, w):\n",
    "    m = x.size # here m is the number of data points. not the\n",
    "    # degree of the polynomial\n",
    "    a = hdiff(x, y, yprime)\n",
    "    z = np.zeros(2*m)\n",
    "    for i in range(m):\n",
    "        z[2*i] = x[i]\n",
    "        z[2*i+1] = x[i]\n",
    "    sum = a[0]\n",
    "    pr = 1.0\n",
    "    for j in range(2*m-1):\n",
    "        pr *= w-z[j]\n",
    "        sum += a[j+1]*pr\n",
    "    return sum    \n",
    "###############################################################################################\n",
    "###############################################################################################\n",
    "\n",
    "x = np.array([-1.5, 1.6, 4.7])\n",
    "y = np.array([0.071,-0.029,-0.012])\n",
    "yprime=np.array([1,-1,1])\n",
    "\n",
    "xdata=np.linspace(-1.5,4.7,101, endpoint=True)\n",
    "\n",
    "#Hermite\n",
    "Hinterp = hermite(x, y, yprime, xdata)\n",
    "#Hinterp=CubicHermiteSpline(x, y, dydx, axis=0, extrapolate=None)\n",
    "\n",
    "# Lagrange\n",
    "L=lagrange(x,y)\n",
    "\n",
    "# Linear polynomial n=1, see the documentation \n",
    "poly1=interp1d(x,y,kind='linear') # kind='quadratic'\n",
    "\n",
    "fig,ax=plt.subplots(1,1)\n",
    "ax.scatter(x,y,c='blue',s=50,label='data')\n",
    "ax.plot(xdata,Hinterp,label='Hermite')\n",
    "ax.plot(xdata,L(xdata),label='Lagrange')\n",
    "ax.plot(xdata,poly1(xdata),label='Polynomial n=1')\n",
    "ax.plot(xdata,np.cos(xdata),label='cos(x)')\n",
    "ax.set_ylim([-1.1,1.1])\n",
    "ax.legend()\n"
   ]
  },
  {
   "cell_type": "markdown",
   "metadata": {
    "id": "jsxCHrlg7RZp"
   },
   "source": [
    "## <font color='red'> **Activity** </font>"
   ]
  },
  {
   "cell_type": "markdown",
   "metadata": {
    "id": "E9-802hy7RZp"
   },
   "source": [
    "<font color='red'>    \n",
    "\n",
    "Calculate a routine, using the previous program for divided differences, that computes the Hermite polynomial given a dataset.\n",
    "\n",
    "Generate a set of $N$ points of the function $\\sin^2(x)$ between $0$ and $2\\pi$, including an array of $x$ positions, $y = f(x)$ and first derivative $y' = f'(x)$.\n",
    "\n",
    "Show which polynomial gives the best approximation to the real function, Hermite or Lagrange polynomial.\n",
    "\n",
    "</font>\n",
    "\n",
    "<font color='white'>    \n",
    "https://github.com/restrepo/ComputationalMethods/blob/master/activities/hermite-and-lagrange.ipynb\n",
    "</font>\n",
    "    "
   ]
  },
  {
   "cell_type": "markdown",
   "metadata": {},
   "source": [
    "## Spline - Piecewise interpolation (Linear, Quadratic, Cubic)\n",
    "* why is it called spline: spline is a thin flexible stripe of wood, hard rubber, metal or plastic that is used to connect ends of elements\n",
    "* in case of Newton, Lagrange, Hermite interpolation the degree of the interpolating polynomial is directly linked to the number of data points!!!\n",
    "* the difference between other previous interpolaton methods: in spline interpolation instead of finding a single polynomial that fits the given data, we find one low-degree polynomial that fits every $\\color{red}{\\text{pair of data}}$ (pair of data - thats why is called piecewise interpolation - interpolate \"piece by piece\")\n",
    "\n",
    "* Linear $P(x) = a_0x + a_1$\n",
    "\n",
    "<img src=\"imgs/linear_spline.png\" width=\"300\" />\n",
    "\n",
    "\n",
    "* Quadratic $P(x) = a_0 + a_1x + a_2x^2 $\n",
    "<img src=\"imgs/quadratic_spline.png\" alt=\"Drawing\" style=\"width: 300px;\"/>\n",
    "\n",
    "* Cubic $P(x) = a_0 + a_1x + a_2x^2 + a_3x^3$ (piecewise)\n",
    "<img src=\"imgs/cubic_spline.png\" alt=\"Drawing\" style=\"width: 300px;\"/>"
   ]
  },
  {
   "cell_type": "markdown",
   "metadata": {},
   "source": [
    "* very often we know the points are connected smooth way. \n",
    "* spline can use the condition of smooth continuity (smooth transition) at each point and get the best interpolation\n",
    "* linear piecewise elements are continuous but not differentiable\n",
    "* mathematically smooth means that at each point the first and second derivatives match\n",
    "* cubic makes the connection with the points \"more smooth\"\n",
    "* so we are left with two choices: quadratic and cubic - \n",
    "* cubic polynomial better satisfies the smoothness for the first and second derivative\n",
    "* one can imagine two rods pointing in the same direction - one can connect them smoothly only with at least third degree polynomial "
   ]
  },
  {
   "cell_type": "markdown",
   "metadata": {},
   "source": [
    "## Example of manual calculation of two polynomials for Spline interpolation"
   ]
  },
  {
   "cell_type": "markdown",
   "metadata": {},
   "source": [
    "### To have a better insight into the operation of the spline method let's perform analytical spline interpolation on three points using cubic polynomial"
   ]
  },
  {
   "cell_type": "markdown",
   "metadata": {},
   "source": [
    "Let say the points are: \n",
    "\n",
    "$(x_1 = 0, y_1 = 0)$ \n",
    "\n",
    "$(x_2 = 1, y_2 = 1)$ \n",
    "\n",
    "$(x_3 = 2, y_3 = 0) $"
   ]
  },
  {
   "cell_type": "code",
   "execution_count": 8,
   "metadata": {},
   "outputs": [
    {
     "data": {
      "text/plain": [
       "<matplotlib.collections.PathCollection at 0x7f91075c7dd8>"
      ]
     },
     "execution_count": 8,
     "metadata": {},
     "output_type": "execute_result"
    },
    {
     "data": {
      "image/png": "[encoded data removed]",
      "text/plain": [
       "<Figure size 432x288 with 1 Axes>"
      ]
     },
     "metadata": {
      "needs_background": "light"
     },
     "output_type": "display_data"
    }
   ],
   "source": [
    "import numpy as np\n",
    "import matplotlib.pyplot as plt\n",
    "x=np.array([0,1,2])\n",
    "y=np.array([0,1,0])\n",
    "fig, axes = plt.subplots(1,1)\n",
    "axes.scatter(x,y,c='blue',s=50)"
   ]
  },
  {
   "cell_type": "markdown",
   "metadata": {},
   "source": [
    "\n",
    "\n",
    "The general third order polynomials are:\n",
    "$$ S_0(x) = a_0 + b_0x + c_0x^2 + d_0x^3 $$\n",
    "$$ S_1(x) = a_1 + b_1x + c_1x^2 + d_1x^3 $$\n",
    "\n",
    "We have here 8 variables to find $a_0... d_1$, but we already know some things about those equations.\n",
    "\n",
    "The interpolation equations are:\n",
    "$$ S_0(0) = 0 \\rightarrow a_0 = 0 $$\n",
    "$$ S_0(1) = 1 \\rightarrow a_0 + b_0 + c_0 + d_0 = 1 $$\n",
    "$$ S_1(1) = 1 \\rightarrow a_1 + b_1 + c1 + d1 = 1 $$\n",
    "$$ S_1(2) = 0 \\rightarrow a_1 + 2b_1 + 4c_1 + 8d_1 = 0 $$\n",
    "\n",
    "Moreover we can impose smoothness conditions:\n",
    "$$ S'_0(1) = S'_1(1)     \\rightarrow  b_0 + 2c_0 + 3d_0 = b_1 + 2c_1 + 3d_1 $$\n",
    "$$ S''_0 (1) = S''_1 (1) \\rightarrow 2 c_0 + 6d_0 = 2c_1 + 6_d $$\n",
    "\n",
    "And the boundary condition:\n",
    "$$ S''_0 (0) = 0 \\rightarrow 2 c_0 = 0 $$\n",
    "$$ S''_1 (2) = 0 \\rightarrow 2 c_1 + 12d_1 = 0 $$\n",
    "\n",
    "\n",
    "* we have eight unknowns and eight equations!\n",
    "\n",
    "$$ b_0 + d_0 = 1 $$\n",
    "$$ a_1 + b_1 + c_1 + d_1 = 1 $$\n",
    "$$ a_1 + 2b_1 + 4c_1 + 8d_1 = 0 $$\n",
    "$$ b_0 + 3d_0 -b1 + 2c_1 + 3d_1 = 0  $$\n",
    "$$ 3d_0 -c_1 + 3d_1 = 0  $$\n",
    "$$ c_1 + 6d_1 = 0 $$ \n",
    "\n",
    "* that can be simply solved:\n",
    "\n",
    "$$ Ax = v$$ \n",
    "\n",
    "np.linalg.solve(A, v)\n",
    "\n",
    "$$ S_0(x) = 1.5x  - 0.5x^3 $$ \n",
    "$$ S_1(x) =  - 1 + 4.5x  -3x^2 + 0.5x^3 $$ "
   ]
  },
  {
   "cell_type": "code",
   "execution_count": 9,
   "metadata": {},
   "outputs": [
    {
     "data": {
      "image/png": "[encoded data removed]",
      "text/plain": [
       "<Figure size 432x288 with 1 Axes>"
      ]
     },
     "metadata": {
      "needs_background": "light"
     },
     "output_type": "display_data"
    }
   ],
   "source": [
    "import numpy as np\n",
    "import matplotlib.pyplot as plt\n",
    "x=np.array([0,1,2])\n",
    "y=np.array([0,1,0])\n",
    "\n",
    "xs1=np.linspace(0,1,100)\n",
    "xs2=np.linspace(1,2,100)\n",
    "\n",
    "S1 = 1.5*xs1 - 0.5*xs1**3.0\n",
    "S2 = -1.0 + 4.5*xs2 - 3*xs2**2.0 + 0.5*xs2**3.0\n",
    "fig, axes = plt.subplots(1,1)\n",
    "axes.scatter(x,y,c='blue',s=40)\n",
    "axes.plot(xs1,S1,label='polynomial S1')\n",
    "axes.plot(xs2,S2,label='polynomial S2')\n",
    "axes.legend()\n",
    "axes.set_xlabel('x')\n",
    "axes.set_ylabel('y')\n",
    "plt.show()\n"
   ]
  },
  {
   "cell_type": "markdown",
   "metadata": {},
   "source": [
    "### Numerical example using scipy build in functions"
   ]
  },
  {
   "cell_type": "code",
   "execution_count": 10,
   "metadata": {},
   "outputs": [
    {
     "data": {
      "image/png": "[encoded data removed]",
      "text/plain": [
       "<Figure size 432x288 with 1 Axes>"
      ]
     },
     "metadata": {
      "needs_background": "light"
     },
     "output_type": "display_data"
    }
   ],
   "source": [
    "from scipy.interpolate import interp1d\n",
    "from scipy.interpolate import CubicSpline\n",
    "import matplotlib.pyplot as plt\n",
    "\n",
    "x = np.array([0,1,2,3,4,5,6,7,8,9,10],dtype='float')\n",
    "#y = np.sin(x)\n",
    "y = np.cos(-x**2/9.0)\n",
    "\n",
    "fspline = CubicSpline(x, y)\n",
    "finterp = interp1d(x, y, kind='linear')\n",
    "\n",
    "xdata = np.linspace(0, 10, 101, endpoint=True)\n",
    "\n",
    "fig, ax = plt.subplots(1,1)\n",
    "ax.scatter(x, np.cos(-x**2/9.0), label=\"data\")\n",
    "\n",
    "ax.plot(xdata, fspline(xdata), label=\"spline\")\n",
    "ax.plot(xdata, finterp(xdata), label='linear')\n",
    "ax.legend()\n",
    "plt.show()"
   ]
  },
  {
   "cell_type": "markdown",
   "metadata": {},
   "source": [
    "### questions:\n",
    "* what is the difference between spline and other methods: Newton, Lagrange, Hermite polynomial interpolation?\n",
    "* what does it mean: picewise interpolation?\n",
    "* why cubic spline is more common than quadratic?"
   ]
  }
 ],
 "metadata": {
  "colab": {
   "name": "interpolation_details.ipynb",
   "provenance": []
  },
  "kernelspec": {
   "display_name": "Python 3",
   "language": "python",
   "name": "python3"
  },
  "language_info": {
   "codemirror_mode": {
    "name": "ipython",
    "version": 3
   },
   "file_extension": ".py",
   "mimetype": "text/x-python",
   "name": "python",
   "nbconvert_exporter": "python",
   "pygments_lexer": "ipython3",
   "version": "3.7.2"
  },
  "toc": {
   "colors": {
    "hover_highlight": "#DAA520",
    "running_highlight": "#FF0000",
    "selected_highlight": "#FFD700"
   },
   "moveMenuLeft": true,
   "nav_menu": {
    "height": "341px",
    "width": "252px"
   },
   "navigate_menu": true,
   "number_sections": true,
   "sideBar": true,
   "threshold": 4,
   "toc_cell": false,
   "toc_section_display": "block",
   "toc_window_display": false
  }
 },
 "nbformat": 4,
 "nbformat_minor": 1
}
